{
 "cells": [
  {
   "cell_type": "code",
   "execution_count": 2,
   "metadata": {},
   "outputs": [
    {
     "name": "stdout",
     "output_type": "stream",
     "text": [
      "\t WELCOME TO HBL\n",
      "    Please Enter Your Card    \n",
      "Enter Pin Number = 1234\n",
      "\t 1-Withdrawl \n",
      " \n",
      "\t 2-Balance Inquiry\n",
      ">1\n",
      "Enter Your Withdrawl Amount = 60000\n",
      "Your account does not have enough amount\n"
     ]
    }
   ],
   "source": [
    "Total_amount = 50000\n",
    "\n",
    "print(\"\\t WELCOME TO HBL\")\n",
    "print(\"    Please Enter Your Card    \")\n",
    "\n",
    "pin_number = input(\"Enter Pin Number = \")\n",
    "\n",
    "if pin_number == 1234:\n",
    "    print('\\t 1-Withdrawl \\n ')\n",
    "    print('\\t 2-Balance Inquiry')\n",
    "    choice = int(input(\">\"))\n",
    "    if choice == 1:\n",
    "        a = int(input(\"Enter Your Withdrawl Amount = \"))\n",
    "    if a <= Total_amount:\n",
    "                     print(\"Please Wait\")\n",
    "    else:\n",
    "                     print(\"Your account does not have enough amount\") \n",
    "    if choice == 2:\n",
    "            print(\"Please Wait\")\n",
    "else:\n",
    "    print(\"your Pin number is Invalid\")\n",
    "        "
   ]
  },
  {
   "cell_type": "code",
   "execution_count": null,
   "metadata": {},
   "outputs": [],
   "source": []
  },
  {
   "cell_type": "code",
   "execution_count": null,
   "metadata": {},
   "outputs": [],
   "source": []
  }
 ],
 "metadata": {
  "kernelspec": {
   "display_name": "Python 2",
   "language": "python",
   "name": "python2"
  },
  "language_info": {
   "codemirror_mode": {
    "name": "ipython",
    "version": 2
   },
   "file_extension": ".py",
   "mimetype": "text/x-python",
   "name": "python",
   "nbconvert_exporter": "python",
   "pygments_lexer": "ipython2",
   "version": "2.7.16"
  }
 },
 "nbformat": 4,
 "nbformat_minor": 2
}
