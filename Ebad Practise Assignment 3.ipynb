{
 "cells": [
  {
   "cell_type": "markdown",
   "metadata": {},
   "source": [
    "# Q1:"
   ]
  },
  {
   "cell_type": "markdown",
   "metadata": {},
   "source": [
    "Think of at least three kinds of your favorite pizza. Store these pizza names in a list, and then use a for loop to print the name of each pizza."
   ]
  },
  {
   "cell_type": "code",
   "execution_count": 1,
   "metadata": {},
   "outputs": [],
   "source": [
    "pizza=[\"Butternut Squash and Crispy Sage Pizza\",\"Chicken Alfredo Pizza\",\"Chicken Fajita\",\"Macaroni And Cheese Pizza\"]"
   ]
  },
  {
   "cell_type": "code",
   "execution_count": 2,
   "metadata": {},
   "outputs": [
    {
     "name": "stdout",
     "output_type": "stream",
     "text": [
      "My favourite pizza is : \n",
      "('<>', 'Butternut Squash And Crispy Sage Pizza')\n",
      "('<>', 'Chicken Alfredo Pizza')\n",
      "('<>', 'Chicken Fajita')\n",
      "('<>', 'Macaroni And Cheese Pizza')\n"
     ]
    }
   ],
   "source": [
    "print(\"My favourite pizza is : \")\n",
    "for pizzas in pizza :\n",
    "    print (\"<>\",pizzas.title())"
   ]
  },
  {
   "cell_type": "markdown",
   "metadata": {},
   "source": [
    "# Q2"
   ]
  },
  {
   "cell_type": "markdown",
   "metadata": {},
   "source": [
    "Start with your last question , Modify your for loop to print a sentence using the name of the pizza\n",
    "instead of printing just the name of the pizza. For each pizza you should\n",
    "have one line of output containing a simple statement like I like pepperoni\n",
    "pizza."
   ]
  },
  {
   "cell_type": "code",
   "execution_count": 3,
   "metadata": {},
   "outputs": [],
   "source": [
    "pizza=[\"Butternut Squash and Crispy Sage Pizza\",\"Chicken Alfredo Pizza\",\"Chicken Fajita\",\"Macaroni And Cheese Pizza\"]"
   ]
  },
  {
   "cell_type": "code",
   "execution_count": 4,
   "metadata": {},
   "outputs": [
    {
     "name": "stdout",
     "output_type": "stream",
     "text": [
      "<> I Like Butternut Squash And Crispy Sage Pizza\n",
      "<> I Like Chicken Alfredo Pizza\n",
      "<> I Like Chicken Fajita\n",
      "<> I Like Macaroni And Cheese Pizza\n"
     ]
    }
   ],
   "source": [
    "for pizzas in pizza:\n",
    "    print('<> I Like ' + pizzas.title())"
   ]
  },
  {
   "cell_type": "markdown",
   "metadata": {},
   "source": [
    "# Q3:"
   ]
  },
  {
   "cell_type": "markdown",
   "metadata": {},
   "source": [
    "Use a for loop to print the numbers from 1 to 20,\n",
    "inclusive."
   ]
  },
  {
   "cell_type": "code",
   "execution_count": 5,
   "metadata": {},
   "outputs": [
    {
     "name": "stdout",
     "output_type": "stream",
     "text": [
      "1\n",
      "2\n",
      "3\n",
      "4\n",
      "5\n",
      "6\n",
      "7\n",
      "8\n",
      "9\n",
      "10\n",
      "11\n",
      "12\n",
      "13\n",
      "14\n",
      "15\n",
      "16\n",
      "17\n",
      "18\n",
      "19\n",
      "20\n"
     ]
    }
   ],
   "source": [
    "for a in range (1,21):\n",
    "    print(a)"
   ]
  },
  {
   "cell_type": "markdown",
   "metadata": {},
   "source": [
    "# Q4:"
   ]
  },
  {
   "cell_type": "markdown",
   "metadata": {},
   "source": [
    "Use the third argument of the range() function to make a list\n",
    "of the odd numbers from 1 to 20. Use a for loop to print each number."
   ]
  },
  {
   "cell_type": "code",
   "execution_count": 6,
   "metadata": {},
   "outputs": [
    {
     "name": "stdout",
     "output_type": "stream",
     "text": [
      "odd number\n",
      "1\n",
      "3\n",
      "5\n",
      "7\n",
      "9\n",
      "11\n",
      "13\n",
      "15\n",
      "17\n",
      "19\n"
     ]
    }
   ],
   "source": [
    "print(\"odd number\")\n",
    "for o in range (1,21,2):\n",
    "    print(o)"
   ]
  },
  {
   "cell_type": "markdown",
   "metadata": {},
   "source": [
    "# Q5:"
   ]
  },
  {
   "cell_type": "markdown",
   "metadata": {},
   "source": [
    "Make a list of the multiples of 3 from 3 to 30. Use a for loop to\n",
    "print the numbers in your list."
   ]
  },
  {
   "cell_type": "code",
   "execution_count": 7,
   "metadata": {},
   "outputs": [],
   "source": [
    "multi=[]"
   ]
  },
  {
   "cell_type": "code",
   "execution_count": 8,
   "metadata": {},
   "outputs": [
    {
     "name": "stdout",
     "output_type": "stream",
     "text": [
      "[9, 12, 15, 18, 21, 24, 27, 30, 33, 36, 39, 42, 45, 48, 51, 54, 57, 60, 63, 66, 69, 72, 75, 78, 81, 84, 87, 90]\n"
     ]
    }
   ],
   "source": [
    "for m in range(3,31):\n",
    "    mul=m*3\n",
    "    multi.append(mul)\n",
    "print(multi)"
   ]
  },
  {
   "cell_type": "markdown",
   "metadata": {},
   "source": [
    "# Q6:"
   ]
  },
  {
   "cell_type": "markdown",
   "metadata": {},
   "source": [
    "A number raised to the third power is called a cube. For example,\n",
    "the cube of 2 is written as 2**3 in Python. Make a list of the first 10 cubes (that\n",
    "is, the cube of each integer from 1 through 10), and use a for loop to print out\n",
    "the value of each cube"
   ]
  },
  {
   "cell_type": "code",
   "execution_count": 9,
   "metadata": {},
   "outputs": [],
   "source": [
    "cube=[]"
   ]
  },
  {
   "cell_type": "code",
   "execution_count": 10,
   "metadata": {},
   "outputs": [
    {
     "name": "stdout",
     "output_type": "stream",
     "text": [
      "[1, 8, 27, 64, 125, 216, 343, 512, 729, 1000]\n"
     ]
    }
   ],
   "source": [
    "for c in range(1,11):\n",
    "    cubes=c**3\n",
    "    cube.append(cubes)\n",
    "print(cube)"
   ]
  },
  {
   "cell_type": "markdown",
   "metadata": {},
   "source": [
    "# Q7:"
   ]
  },
  {
   "cell_type": "markdown",
   "metadata": {},
   "source": [
    "###### Make a python program that conatains your nine favourite dishes in a list called foods.\n",
    "\n",
    "###### Print the message, The first three items in the list are:. \n",
    "###### Then use a slice to print the first three items from that program’s list.\n",
    "\n",
    "###### Print the message, Three items from the middle of the list are:\n",
    "###### Use a slice to print three items from the middle of the list.\n",
    "\n",
    "###### Print the message, The last three items in the list are:\n",
    "###### Use a slice to print the last three items in the list."
   ]
  },
  {
   "cell_type": "code",
   "execution_count": 11,
   "metadata": {},
   "outputs": [
    {
     "name": "stdout",
     "output_type": "stream",
     "text": [
      "Favourite Dishes\n",
      "['Sizzlers', 'Chicken Tikka Pizza', 'Pizza Fries', 'Macaroni', 'Chowmien', 'Singaporien Rice', 'Chicken Qourma', 'Rice', 'Pulses']\n",
      "The first three items in the list are :\n",
      "['Sizzlers', 'Chicken Tikka Pizza', 'Pizza Fries']\n",
      "Three items from the middle of the list are :\n",
      "['Macaroni', 'Chowmien', 'Singaporien Rice']\n",
      "The last three items in the list are :\n",
      "['Chicken Qourma', 'Rice', 'Pulses']\n"
     ]
    }
   ],
   "source": [
    "print(\"Favourite Dishes\")\n",
    "foods=['Sizzlers','Chicken Tikka Pizza','Pizza Fries','Macaroni','Chowmien','Singaporien Rice','Chicken Qourma','Rice','Pulses']\n",
    "print(foods)\n",
    "\n",
    "print(\"The first three items in the list are :\")\n",
    "print(foods[0:3])\n",
    "\n",
    "print(\"Three items from the middle of the list are :\")\n",
    "print(foods[3:6])\n",
    "\n",
    "print(\"The last three items in the list are :\")\n",
    "print(foods[6:9])"
   ]
  },
  {
   "cell_type": "markdown",
   "metadata": {},
   "source": [
    "# Q8:"
   ]
  },
  {
   "cell_type": "markdown",
   "metadata": {},
   "source": [
    "### Start with your program from your last Question8.\n",
    "###### Make a copy of the list of foods, and call it friend_foods.\n",
    "###### Then, do the following:\n",
    "######    Add a new dish to the original list.\n",
    "######    Add a different dish to the list friend_foodss.\n",
    "######    Prove that you have two separate lists. \n",
    "###### Print the message, My favorite pizzas are: and then use a for loop to print the first list. \n",
    "###### Print the message,\n",
    "###### My friend’s favorite foods are:, and then use a for loop to print the second list.\n",
    "    \n",
    "##### NOTE: Make sure each new dish is stored in the appropriate list."
   ]
  },
  {
   "cell_type": "code",
   "execution_count": 12,
   "metadata": {},
   "outputs": [
    {
     "name": "stdout",
     "output_type": "stream",
     "text": [
      "['Sizzlers', 'Chicken Tikka Pizza', 'Pizza Fries', 'Macaroni', 'Chowmien', 'Singaporien Rice', 'Chicken Qourma', 'Rice', 'Pulses', 'Mandi']\n"
     ]
    }
   ],
   "source": [
    "foods=['Sizzlers','Chicken Tikka Pizza','Pizza Fries','Macaroni','Chowmien','Singaporien Rice','Chicken Qourma','Rice','Pulses']\n",
    "foods.append(\"Mandi\")\n",
    "print(foods)"
   ]
  },
  {
   "cell_type": "code",
   "execution_count": 13,
   "metadata": {},
   "outputs": [
    {
     "name": "stdout",
     "output_type": "stream",
     "text": [
      "['Sizzlers', 'Chicken Tikka Pizza', 'Pizza Fries', 'Macaroni', 'Chowmien', 'Singaporien Rice', 'Chicken Qourma', 'Rice', 'Pulses', 'Allu Gosht']\n"
     ]
    }
   ],
   "source": [
    "friend_foods=['Sizzlers','Chicken Tikka Pizza','Pizza Fries','Macaroni','Chowmien','Singaporien Rice','Chicken Qourma','Rice','Pulses']\n",
    "friend_foods.append(\"Allu Gosht\")\n",
    "print(friend_foods)"
   ]
  },
  {
   "cell_type": "code",
   "execution_count": 14,
   "metadata": {},
   "outputs": [
    {
     "name": "stdout",
     "output_type": "stream",
     "text": [
      "('My favourite Food list: ', ['Sizzlers', 'Chicken Tikka Pizza', 'Pizza Fries', 'Macaroni', 'Chowmien', 'Singaporien Rice', 'Chicken Qourma', 'Rice', 'Pulses', 'Mandi'])\n"
     ]
    }
   ],
   "source": [
    "print(\"My favourite Food list: \",foods)"
   ]
  },
  {
   "cell_type": "code",
   "execution_count": 15,
   "metadata": {},
   "outputs": [
    {
     "name": "stdout",
     "output_type": "stream",
     "text": [
      "('My friend Food list: ', ['Sizzlers', 'Chicken Tikka Pizza', 'Pizza Fries', 'Macaroni', 'Chowmien', 'Singaporien Rice', 'Chicken Qourma', 'Rice', 'Pulses', 'Allu Gosht'])\n"
     ]
    }
   ],
   "source": [
    "print(\"My friend Food list: \",friend_foods)"
   ]
  },
  {
   "cell_type": "code",
   "execution_count": 16,
   "metadata": {},
   "outputs": [
    {
     "name": "stdout",
     "output_type": "stream",
     "text": [
      "My Fav Dishes\n",
      "('<>', 'Sizzlers')\n",
      "('<>', 'Chicken Tikka Pizza')\n",
      "('<>', 'Pizza Fries')\n",
      "('<>', 'Macaroni')\n",
      "('<>', 'Chowmien')\n",
      "('<>', 'Singaporien Rice')\n",
      "('<>', 'Chicken Qourma')\n",
      "('<>', 'Rice')\n",
      "('<>', 'Pulses')\n",
      "('<>', 'Mandi')\n"
     ]
    }
   ],
   "source": [
    "print(\"My Fav Dishes\")\n",
    "for f in foods:\n",
    "    print (\"<>\",f.title())"
   ]
  },
  {
   "cell_type": "code",
   "execution_count": 17,
   "metadata": {},
   "outputs": [
    {
     "name": "stdout",
     "output_type": "stream",
     "text": [
      "My friend Fav Dishes\n",
      "('<>', 'Sizzlers')\n",
      "('<>', 'Chicken Tikka Pizza')\n",
      "('<>', 'Pizza Fries')\n",
      "('<>', 'Macaroni')\n",
      "('<>', 'Chowmien')\n",
      "('<>', 'Singaporien Rice')\n",
      "('<>', 'Chicken Qourma')\n",
      "('<>', 'Rice')\n",
      "('<>', 'Pulses')\n",
      "('<>', 'Allu Gosht')\n"
     ]
    }
   ],
   "source": [
    "  print(\"My friend Fav Dishes\")\n",
    "for fr in friend_foods:\n",
    "    print (\"<>\",fr.title())"
   ]
  },
  {
   "cell_type": "markdown",
   "metadata": {},
   "source": [
    "# Q9:"
   ]
  },
  {
   "cell_type": "markdown",
   "metadata": {},
   "source": [
    "Take a user input from console line.Store it in a variable called Alien_color.\n",
    "\n",
    "If the alien’s color is red, print a statement that the player just earned 5 points for shooting the alien.\n",
    "\n",
    "If the alien’s color isn’t green, print a statement that the player just earned 10 points.\n",
    "\n",
    "If the alien's color isn't red or green , print a statment :, Alien is no more....."
   ]
  },
  {
   "cell_type": "code",
   "execution_count": null,
   "metadata": {},
   "outputs": [],
   "source": [
    "Alien_Color = input(\"Alien Color is :\")\n",
    "if Alien_Color == \"red\":\n",
    "    print(\" The player just earned 5 points for shooting the alien.\")\n",
    "if Alien_Color != \"green\":\n",
    "    print(\" The player just earned 10 points.\")\n",
    "if Alien_Color != \"green\" or Alien_Color != \"red\":\n",
    "    print(\"Alien is no more.....\")"
   ]
  },
  {
   "cell_type": "markdown",
   "metadata": {},
   "source": [
    "# Q10:"
   ]
  },
  {
   "cell_type": "markdown",
   "metadata": {},
   "source": [
    "Write an if-elif-else chain that determines a person’s\n",
    "stage of life. Set a value for the variable age, and then:\n",
    "    \n",
    "•\t If the person is less than 2 years old, print a message that the person is a baby.\n",
    "\n",
    "•\t If the person is at least 2 years old but less than 4, print a message that the person is a toddler.\n",
    "\n",
    "•\t If the person is at least 4 years old but less than 13, print a message that the person is a kid.\n",
    "\n",
    "•\t If the person is at least 13 years old but less than 20, print a message that the person is a teenager.\n",
    "\n",
    "•\t If the person is at least 20 years old but less than 65, print a message that the person is an adult.\n",
    "\n",
    "•\t If the person is age 65 or older, print a message that the person is an elder."
   ]
  },
  {
   "cell_type": "code",
   "execution_count": 20,
   "metadata": {},
   "outputs": [
    {
     "name": "stdout",
     "output_type": "stream",
     "text": [
      "Tell the age of person : 110\n",
      "The person is an elder.\n"
     ]
    }
   ],
   "source": [
    "age=int(input(\"Tell the age of person : \"))\n",
    "if age<2:\n",
    "    print(\"The person is a baby.\")\n",
    "elif 2<=age<4:\n",
    "    print(\"The person is a toddler.\")\n",
    "elif 4<=age<13:\n",
    "    print(\"The person is a kid.\")\n",
    "elif 13<=age<20:\n",
    "    print(\"The person is a teenager.\")\n",
    "elif 20<=age<65:\n",
    "    print(\"The person is an adult.\")\n",
    "else:\n",
    "    print(\"The person is an elder.\")"
   ]
  },
  {
   "cell_type": "markdown",
   "metadata": {},
   "source": [
    "# Q11:"
   ]
  },
  {
   "cell_type": "markdown",
   "metadata": {},
   "source": [
    "Do the following to create a program that simulates how websites ensure that everyone has a unique username.\n",
    "\n",
    "•\t Make a list of five or more usernames called current_users.\n",
    "\n",
    "•\t Make another list of five usernames called new_users. \n",
    "Make sure one or two of the new usernames are also in the current_users list.\n",
    "\n",
    "•\t Loop through the new_users list to see if each new username has already been used. \n",
    "If it has, print a message that the person will need to enter a new username. \n",
    "If a username has not been used, print a message saying that the username is available.\n",
    "\n",
    "•\t Make sure your comparison is case insensitive. If 'John' has been used, 'JOHN' should not be accepted."
   ]
  },
  {
   "cell_type": "code",
   "execution_count": 25,
   "metadata": {},
   "outputs": [
    {
     "name": "stdout",
     "output_type": "stream",
     "text": [
      "affan is available.\n",
      "ahmed will need to enter a new username.\n",
      "anas is available.\n",
      "talha will need to enter a new username.\n",
      "ibad is available.\n"
     ]
    }
   ],
   "source": [
    "current_users = ['talha','ahmed','asheer','sameer','hassan']\n",
    "new_users = ['affan','ahmed','anas','talha','ibad']\n",
    "\n",
    "current_users_low = [cur.lower() for cur in current_users]\n",
    "new_users_low = [cur.lower() for cur in new_users]\n",
    "\n",
    "for new_user in new_users_low:\n",
    "    if new_user in current_users_low:\n",
    "        print (new_user,\"will need to enter a new username.\")\n",
    "    else:\n",
    "        print (new_user, \"is available.\")"
   ]
  },
  {
   "cell_type": "markdown",
   "metadata": {},
   "source": [
    "# Q12:"
   ]
  },
  {
   "cell_type": "markdown",
   "metadata": {},
   "source": [
    "Use a dictionary to store information about a person you know.\n",
    "Store their first name, last name, age, and the city in which they live. \n",
    "You should have keys such as first_name, last_name, age, and city. \n",
    "Print each piece of information stored in your dictionary"
   ]
  },
  {
   "cell_type": "code",
   "execution_count": 26,
   "metadata": {},
   "outputs": [
    {
     "name": "stdout",
     "output_type": "stream",
     "text": [
      "{'Last Name': 'samar', 'First Name': 'talha', 'Age': 22, 'City': 'Karachi'}\n"
     ]
    }
   ],
   "source": [
    "info={\"First Name\":\"talha\",\n",
    "     \"Last Name\":\"samar\",\"Age\":22,\"City\":\"Karachi\"}\n",
    "print(info)"
   ]
  },
  {
   "cell_type": "code",
   "execution_count": 27,
   "metadata": {},
   "outputs": [
    {
     "name": "stdout",
     "output_type": "stream",
     "text": [
      "talha\n",
      "samar\n",
      "22\n",
      "Karachi\n"
     ]
    }
   ],
   "source": [
    "print(info[\"First Name\"])\n",
    "print(info[\"Last Name\"])\n",
    "print(info[\"Age\"])\n",
    "print(info[\"City\"])"
   ]
  },
  {
   "cell_type": "markdown",
   "metadata": {},
   "source": [
    "# Q13:"
   ]
  },
  {
   "cell_type": "markdown",
   "metadata": {},
   "source": [
    "Starts with your last question 12 , loop through the dictionary’s keys and values.\n",
    "When you’re sure that your loop works, add five more Python terms to your\n",
    "dictionary . When you run your program again, these new words and meanings\n",
    "should automatically be included in the output."
   ]
  },
  {
   "cell_type": "code",
   "execution_count": 28,
   "metadata": {},
   "outputs": [
    {
     "name": "stdout",
     "output_type": "stream",
     "text": [
      "('Key: ', 'Last Name')\n",
      "('Values: ', 'samar')\n",
      "('Key: ', 'First Name')\n",
      "('Values: ', 'talha')\n",
      "('Key: ', 'Age')\n",
      "('Values: ', 22)\n",
      "('Key: ', 'City')\n",
      "('Values: ', 'Karachi')\n"
     ]
    }
   ],
   "source": [
    "info={\"First Name\":\"talha\",\n",
    "     \"Last Name\":\"samar\",\"Age\":22,\"City\":\"Karachi\"}\n",
    "\n",
    "for k,v in info.items():\n",
    "    print(\"Key: \",k)\n",
    "    print(\"Values: \",v)"
   ]
  },
  {
   "cell_type": "code",
   "execution_count": 30,
   "metadata": {},
   "outputs": [
    {
     "name": "stdout",
     "output_type": "stream",
     "text": [
      "('Key: ', 'First Name')\n",
      "('Values: ', 'talha')\n",
      "('Key: ', ' Python Argument')\n",
      "('Values: ', 'An argument is a value we pass to a function or a method when calling it')\n",
      "('Key: ', 'loop')\n",
      "('Values: ', 'Work through a collection of items, one at a time')\n",
      "('Key: ', 'Python Class')\n",
      "('Values: ', 'A class, in Python, is a template for creating user-defined objects.')\n",
      "('Key: ', 'City')\n",
      "('Values: ', 'Karachi')\n",
      "('Key: ', 'Last Name')\n",
      "('Values: ', 'samar')\n",
      "('Key: ', 'Attribute')\n",
      "('Values: ', 'An attribute is a value an object holds')\n",
      "('Key: ', 'Age')\n",
      "('Values: ', 22)\n",
      "('Key: ', 'Abstract Base Class')\n",
      "('Values: ', 'An abstract base class provides a way to define interfaces')\n"
     ]
    }
   ],
   "source": [
    "info={\"First Name\":\"talha\",\n",
    "     \"Last Name\":\"samar\",\"Age\":22,\"City\":\"Karachi\",\n",
    "      \n",
    "      \n",
    "      \"Abstract Base Class\":\"An abstract base class provides a way to define interfaces\",\n",
    "     \" Python Argument\":\"An argument is a value we pass to a function or a method when calling it\",\n",
    "     \"Attribute\":\"An attribute is a value an object holds\",\n",
    "      \"loop\": \"Work through a collection of items, one at a time\",\n",
    "     \"Python Class\":\"A class, in Python, is a template for creating user-defined objects.\"}\n",
    "\n",
    "for k,v in info.items():\n",
    "    print(\"Key: \",k)\n",
    "    print(\"Values: \",v)\n"
   ]
  },
  {
   "cell_type": "markdown",
   "metadata": {},
   "source": [
    "# Q14:"
   ]
  },
  {
   "cell_type": "markdown",
   "metadata": {},
   "source": [
    "Make a dictionary containing three major rivers and the country\n",
    "each river runs through. One key-value pair might be 'nile': 'egypt'.\n",
    "    \n",
    "    \n",
    "•\t Use a loop to print a sentence about each river, such as The Nile runs\n",
    "through Egypt.\n",
    "\n",
    "NOTE: use upper case through keys and values."
   ]
  },
  {
   "cell_type": "code",
   "execution_count": 31,
   "metadata": {},
   "outputs": [
    {
     "name": "stdout",
     "output_type": "stream",
     "text": [
      "The SEPIK RIVER in PAPUA NEW GUINEA\n",
      "The GANGES RIVER in INDIA\n",
      "The CHENAB RIVER in PAKISTAN\n"
     ]
    }
   ],
   "source": [
    "river={\"Sepik River\":\"Papua New Guinea\",\"Ganges River\":\"India\",\"Chenab River\":\"Pakistan\"}\n",
    "for k,v in river.items():\n",
    "    print(\"The\"+ \" \"+k.upper()+\" \"+ \"in\" + \" \"+ v.upper())"
   ]
  },
  {
   "cell_type": "markdown",
   "metadata": {},
   "source": [
    "# Q15:"
   ]
  },
  {
   "cell_type": "markdown",
   "metadata": {},
   "source": [
    "Make several dictionaries, where the name of each dictionary is the\n",
    "name of a pet. In each dictionary, include the kind of animal and the owner’s\n",
    "name. Store these dictionaries in a list called pets. Next, loop through your list\n",
    "and as you do print everything you know about each pet."
   ]
  },
  {
   "cell_type": "code",
   "execution_count": 32,
   "metadata": {},
   "outputs": [
    {
     "name": "stdout",
     "output_type": "stream",
     "text": [
      "{'pet': 'Turtle', 'Owner Name': 'Parwasha', 'Name': 'Drako'}\n",
      "{'pet': 'Cat', 'Owner Name': 'Bilal', 'Name': 'Shehro'}\n",
      "{'pet': 'Dog', 'Owner Name': 'Ali Zain', 'Name': 'Simba'}\n"
     ]
    }
   ],
   "source": [
    "t = { \"pet\":\"Turtle\",\"Name\":\"Drako\",\"Owner Name\":\"Parwasha\"}\n",
    "c = { \"pet\":\"Cat\",\"Name\":\"Shehro\",\"Owner Name\":\"Bilal\"}\n",
    "d = { \"pet\":\"Dog\",\"Name\":\"Simba\",\"Owner Name\":\"Ali Zain\"}\n",
    "pets = [t , c , d]\n",
    "for pet in pets:\n",
    "    print(pet)"
   ]
  },
  {
   "cell_type": "code",
   "execution_count": 33,
   "metadata": {},
   "outputs": [
    {
     "name": "stdout",
     "output_type": "stream",
     "text": [
      "('Pet', '=', 'Turtle')\n",
      "('Owner Name', '=', 'Parwasha')\n",
      "('Name', '=', 'Drako')\n",
      "*********************\n",
      "('Pet', '=', 'Cat')\n",
      "('Owner Name', '=', 'Bilal')\n",
      "('Name', '=', 'Shehro')\n",
      "*********************\n",
      "('Pet', '=', 'Dog')\n",
      "('Owner Name', '=', 'Ali Zain')\n",
      "('Name', '=', 'Simba')\n",
      "*********************\n"
     ]
    }
   ],
   "source": [
    "for k,v in t.items():\n",
    "    print(k.title(),\"=\",v.title())\n",
    "print(\"*********************\")\n",
    "for k,v in c.items():\n",
    "    print(k.title(),\"=\",v.title()) \n",
    "print(\"*********************\")   \n",
    "for k,v in d.items():\n",
    "    print(k.title(),\"=\",v.title())\n",
    "print(\"*********************\")"
   ]
  },
  {
   "cell_type": "code",
   "execution_count": null,
   "metadata": {},
   "outputs": [],
   "source": []
  }
 ],
 "metadata": {
  "kernelspec": {
   "display_name": "Python 2",
   "language": "python",
   "name": "python2"
  },
  "language_info": {
   "codemirror_mode": {
    "name": "ipython",
    "version": 2
   },
   "file_extension": ".py",
   "mimetype": "text/x-python",
   "name": "python",
   "nbconvert_exporter": "python",
   "pygments_lexer": "ipython2",
   "version": "2.7.16"
  }
 },
 "nbformat": 4,
 "nbformat_minor": 2
}
